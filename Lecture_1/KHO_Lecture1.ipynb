{
 "cells": [
  {
   "cell_type": "markdown",
   "id": "5568ff1f-b339-4e08-8110-d59c78f768b8",
   "metadata": {},
   "source": [
    "# DISCRETE MATH II LECTURE 1 ANSWERS\n",
    "**Student Name**: Franchesca Marianne Kho  \n",
    "**Subject**: Discrete Math  \n",
    "**Teacher**: Gerard Ompad  \n",
    "**Schedule**: Tuesday & Thursday, 12:00 - 1:30 PM\n"
   ]
  },
  {
   "cell_type": "markdown",
   "id": "754625c6-af58-4d6e-9b2a-bd0b37d6bcb6",
   "metadata": {},
   "source": [
    "$\\textbf{Assignment}$\n",
    "Instructions:\n",
    "- Use latex.\n",
    "- Write your latex in jupyter notebook.\n",
    "- Push your answer to your github account.\n",
    "- Deadline is 2 weeks before finals.\n",
    "- Fail to submit 2 weeks before finals is an automatic 5.0 for this assignment.\n",
    "- Each problem is 25 points."
   ]
  },
  {
   "cell_type": "markdown",
   "id": "588c87ea-c55f-4619-bb53-37c450d26cf5",
   "metadata": {},
   "source": [
    "1. Recall the definition of a rational number, denoted as $\\mathbb{Q}$. Prove that the Euler's number $e = \\Sigma_{k=0}^\\infty \\frac{1}{k!} \\notin \\mathbb{Q}$. A factorial is defined as $k! = (k)(k-1)(k-2)(k-3)..., \\forall k \\in \\mathbb{Z}^+$, note that $0! = 1$. Furthermore, a sum notation $\\Sigma_{k=0}^\\infty k = 0+ 1 + 2 + 3 +....+...$\n"
   ]
  },
  {
   "cell_type": "markdown",
   "id": "eb1cfade-7530-459e-a72f-6334c5bd0ce3",
   "metadata": {},
   "source": [
    "#### Answer to Problem 1:"
   ]
  },
  {
   "cell_type": "markdown",
   "id": "b40a23be-b7bd-40f9-adb6-36b842fa605e",
   "metadata": {},
   "source": [
    "\n",
    "Suppose for the sake of contradiction that <span class=\"math-inline\">e</span> is rational. By definition, a rational number is any number that can be expressed as the quotient of two integers, denoted by $p$ and $q$, where $q \\neq 0$. In other words, a rational number can be written in the form $\\frac{p}{q}$.\n",
    "\n",
    "\n",
    "\\begin{equation}\n",
    "e = \\frac{p}{q}\n",
    "\\end{equation}\n",
    "\n",
    "<span class=\"math-inline\">e</span> is the sum of an infinite series:\n",
    "\n",
    "\\begin{equation}\n",
    "e = \\sum_{k=0}^\\infty \\frac{1}{k!} = \\frac{1}{0!} + \\frac{1}{1!} + \\frac{1}{2!} + \\frac{1}{3!} + \\ldots\n",
    "\\end{equation}\n",
    "\n",
    "where <span class=\"math-inline\">k\\!</span> (factorial of <span class=\"math-inline\">k</span> ) represents the product of all positive integers less than or equal to <span class=\"math-inline\">k</span>.\n",
    "\n",
    "\n",
    "Let's consider a partial sum of the series, denoted by $S_n$, which includes the first $n+1$ terms:\n",
    "\n",
    "\\begin{equation}\n",
    "S_n = \\frac{1}{0!} + \\frac{1}{1!} + \\frac{1}{2!} + \\frac{1}{3!} + \\ldots + \\frac{1}{n!}\n",
    "\\end{equation}\n",
    "\n",
    "Since each term in the series is positive, $S_n$ is an increasing sequence. Moreover, as $n$ approaches positive infinity, $S_n$ gets arbitrarily close to the true value of $e$.\n",
    "\n",
    "Let's consider the product of $q!$ (factorial of $q$) and $S_n$:\n",
    "\n",
    "\n",
    "\\begin{equation}\n",
    "q! \\cdot S_n = q! \\left(\\frac{1}{0!} + \\frac{1}{1!} + \\frac{1}{2!} + \\frac{1}{3!} + \\ldots + \\frac{1}{n!}\\right)\n",
    "\\end{equation}\n",
    "\n",
    "Expanding the product, we obtain:\n",
    "\n",
    "\\begin{equation}\n",
    "q! \\cdot S_n = q! + \\frac{q!}{1!} + \\frac{q!}{2!} + \\frac{q!}{3!} + \\ldots + \\frac{q!}{n!}\n",
    "\\end{equation}\n",
    "\n",
    "\n",
    "\n",
    "Notice that every term in this expression is an integer. Since $S_n$ approaches $e$ as n increases, the product $q! \\cdot S_n$\n",
    "$q! \\cdot S_n$ should be very close to $q! \\cdot e$. Given our initial assumption that $e = \\frac{p}{q}$\n",
    ", this implies:\n",
    "\n",
    "* $q! \\cdot e = q! \\cdot \\frac{p}{q} = p$\n",
    "\n",
    "Therefore, $p - q! \\cdot S_n$ should be a very small positive integer, close to zero.\n",
    "\n",
    "We can rewrite the difference as:\n",
    "\n",
    "\\begin{align*}\n",
    "p - q! \\cdot S_n &= p - (q! + \\frac{q!}{1!} + \\frac{q!}{2!} + \\frac{q!}{3!} + \\ldots + \\frac{q!}{n!}) \\\\\n",
    "% Factor out q! and separate constant term\n",
    "&= (p - q!) - \\frac{q!}{1!} - \\frac{q!}{2!} - \\frac{q!}{3!} - \\ldots - \\frac{q!}{n!}\n",
    "\\end{align*}\n",
    "\n",
    "\n",
    "\n",
    "We now have a crucial observation. The first term, $(p - q!)$, is an integer by definition. In the summation, each term has a denominator greater than 1, making them all proper fractions. The sum of these fractions cannot possibly be another integer. This contradicts our earlier conclusion that $p - q! \\cdot S_n$ must be a small positive integer.\n",
    "\n",
    "**Conclusion**\n",
    "\n",
    "We have arrived at a crucial contradiction. Our initial assumption was that Euler's number, $e$, could be expressed as a rational number, namely $e = \\frac{p}{q}$ for some integers $p$ and $q$ (with $q \\neq 0$). However, by manipulating the equation and analyzing the properties of the terms, we demonstrated that this assumption leads to a situation where the difference between $p$ and $q! \\cdot S_n$ must be both an integer and a fraction with a denominator greater than 1. This is a logical inconsistency, as the sum of fractions with denominators greater than 1 cannot possibly be an integer.\n",
    "\n",
    "Since our initial assumption of $e$ being rational leads to a contradiction, we are forced to reject it. Therefore, we can definitively conclude that Euler's number, $e$, is irrational or $e \\notin \\mathbb{Q}$. In other words, $e$ cannot be expressed as a quotient of two integers.\n"
   ]
  },
  {
   "cell_type": "markdown",
   "id": "91ab030e-a6f0-4b82-99e1-89a679f501f2",
   "metadata": {},
   "source": [
    "<br>"
   ]
  },
  {
   "cell_type": "markdown",
   "id": "57158adc-2bae-4c21-a2b6-b91510d4e47a",
   "metadata": {},
   "source": [
    "2. Prove Minkowski's Inequality for sums, $\\forall \\ p>1, (a_k, b_k)>0$:\n",
    "\\begin{gather}\n",
    "\\begin{bmatrix}\n",
    "\\Sigma_{k=1}^n |a_k + b_k|^p\n",
    "\\end{bmatrix}^\\frac{1}{p}\n",
    "\\leq\n",
    "\\begin{bmatrix}\n",
    "\\Sigma_{k=1}^n |a_k|^p\n",
    "\\end{bmatrix}^\\frac{1}{p}\n",
    "+\n",
    "\\begin{bmatrix}\n",
    "\\Sigma_{k=1}^n |b_k|^p\n",
    "\\end{bmatrix}^\\frac{1}{p}\n",
    "\\end{gather}"
   ]
  },
  {
   "cell_type": "code",
   "execution_count": null,
   "id": "bcb017c1-0149-45b7-b690-01b3b140185a",
   "metadata": {},
   "outputs": [],
   "source": []
  },
  {
   "cell_type": "markdown",
   "id": "1c72b7cd-51ad-4b3a-9e20-b74e510eab84",
   "metadata": {},
   "source": [
    "#### Answer to Problem 2:"
   ]
  },
  {
   "cell_type": "markdown",
   "id": "3dba248f-8884-4683-a8c7-2355672387ce",
   "metadata": {},
   "source": [
    "<b>Step 1: </b> Start with using the  Holder's inequality:\n",
    "- $\\sum_{k=1}^{n} |a_k b_k| \\leq \\left( \\sum_{k=1}^{n} |a_k|^p \\right)^{\\frac{1}{p}} \\left( \\sum_{k=1}^{n} |b_k|^q \\right)^{\\frac{1}{q}}$\n",
    "\n",
    "<b>Step 2: </b> Define: \n",
    "- $a_k = |x_k|^p $ , $ b_k = |y_k|^p $\n",
    "\n",
    "<b>Step 3: </b> With the use Holder's inequality apply it with its  new definitions (the one from step 2):\n",
    "- $ \\sum_{k=1}^{n} |x_k y_k|^p \\leq \\left( \\sum_{k=1}^{n} |x_k|^p \\right)^{\\frac{1}{p}} \\left( \\sum_{k=1}^{n} |y_k|^q \\right)^{\\frac{1}{q}} $\n",
    "\n",
    "<b>Step 4: </b> Take the $p$-th root of both sides:\n",
    "- $ \\left( \\sum_{k=1}^{n} |x_k y_k|^p \\right)^{\\frac{1}{p}} \\leq \\left( \\sum_{k=1}^{n} |x_k|^p \\right)^{\\frac{1}{p}} \\left( \\sum_{k=1}^{n} |y_k|^p \\right)^{\\frac{1}{q}} \\ $\n",
    "\n",
    "<b>Step 5: </b> Use the relationship between $p$ and $q$:\n",
    "- $ \\left( \\sum_{k=1}^{n} |x_k y_k|^p \\right)^{\\frac{1}{p}} \\leq \\left( \\sum_{k=1}^{n} |x_k|^p \\right)^{\\frac{1}{p}} \\left( \\sum_{k=1}^{n} |y_k|^p \\right)^{\\frac{p-1}{p}} \\ $\n",
    "\n",
    "<b>Step 6: </b> Recognize that: \n",
    "- $ \\frac{p-1}{p} = 1 - \\frac{1}{p} \\ $\n",
    "\n",
    "<b>Step 7: </b> Again we will apply Holder's inequality  to eliminate the $ \\frac{p-1}{p}\\ $ term:\n",
    "- $ \\left( \\sum_{k=1}^{n} |y_k|^p \\right)^{\\frac{p-1}{p}} \\leq n^{\\frac{p-1}{p}} \\left( \\sum_{k=1}^{n} |y_k|^p \\right)^{\\frac{1}{p}} \\ $\n",
    "\n",
    "<b>Step 8: </b> Substitute this equation from step 7 back into the inequality:\n",
    "- $ \\left( \\sum_{k=1}^{n} |x_k + y_k|^p \\right)^{\\frac{1}{p}} \\leq n^{\\frac{1}{p}} \\left( \\sum_{k=1}^{n} |x_k|^p \\right)^{\\frac{1}{p}} \\left( \\sum_{k=1}^{n} |y_k|^p \\right)^{\\frac{1}{p}} \\ $\n",
    "\n",
    "<b>Step 9: </b> Acknowledge that the obtained expression as its final form:\n",
    "- $ \\left( \\sum_{k=1}^{n} |x_k + y_k|^p \\right)^{\\frac{1}{p}} \\leq n^{\\frac{1}{p}} \\left( \\sum_{k=1}^{n} |x_k|^p \\right)^{\\frac{1}{p}} \\left( \\sum_{k=1}^{n} |y_k|^p \\right)^{\\frac{1}{p}} \\ $\n",
    "\n",
    "<br>\n",
    "\n",
    "**Thus, we conclude from the problem that  Minkowski's inequality for sums is established.**\n",
    "\n",
    "<br><br>"
   ]
  },
  {
   "cell_type": "markdown",
   "id": "337d7028-c255-4df1-8e9e-cd53878ea268",
   "metadata": {},
   "source": [
    "<br>"
   ]
  },
  {
   "cell_type": "markdown",
   "id": "09d55971-533a-4819-980d-25b7ac99310d",
   "metadata": {},
   "source": [
    "3. Prove the triangle inequality $|x+y| \\leq |x| + |y|, \\forall (x,y) \\in \\mathbb{R}$"
   ]
  },
  {
   "cell_type": "markdown",
   "id": "0fa9ebad-0969-408a-9e60-6b741e28e3cf",
   "metadata": {},
   "source": [
    "#### Answer to Problem 3:"
   ]
  },
  {
   "cell_type": "markdown",
   "id": "433e427d-5c82-42a7-8480-cab22d271fd1",
   "metadata": {},
   "source": [
    "Step 1: Definition of an absolute value\n",
    "\n",
    "- Definition\n",
    "\\begin{gather}\n",
    "{|x| = }\n",
    "\\begin{cases}\n",
    "x,&{x \\geq 0}\\\\ -x,&{x < 0}\n",
    "\\end{cases}\n",
    "\\end{gather}\n",
    "\n",
    "- Thus, we must solve for 4 cases:\n",
    "\n",
    "\\begin{gather}\n",
    "\\text{Case 1: }{x \\geq 0, y \\geq 0} \\\\\n",
    "\\text{Case 2: }{x < 0, y < 0} \\\\\n",
    "\\text{Case 3: }{x \\geq 0, y < 0} \\\\\n",
    "\\text{Case 4: }{x < 0, y \\geq 0} \\\\\n",
    "\\end{gather}\n",
    "\n",
    "Case 1: $x \\geq 0, y \\geq 0$\n",
    "\n",
    "- Let, $|x + y| = x + y$, and $|x| = x, |y| = y$\n",
    "- Substitution:\n",
    "\\begin{gather}\n",
    "|x + y| = x + y = |x| + |y|\n",
    "\\end{gather}\n",
    "\n",
    "Case 2: $x < 0, y < 0$\n",
    "\n",
    "- Let, $|x + y| = -(x + y)$, and $|x| = -x, |y| = -y$\n",
    "- Substitution:\n",
    "\\begin{gather}\n",
    "|x + y| = -(x + y) = -x + (-y) = |x| + |y|\n",
    "\\end{gather}\n",
    "\n",
    "Case 3: $x \\geq 0, y < 0$\n",
    "\n",
    "- Let, $|x| = x, |y| = -y$\n",
    "- Substitution:\n",
    "\\begin{gather}\n",
    "|x + y| \\leq x - y\n",
    "\\end{gather}\n",
    "- Since, $x$  is non-negative and $y$ is negative, $x - y$ could be either positive or negative. So, let's consider both possibilities:\n",
    "\n",
    "For $x + y \\geq 0$:\n",
    "\\begin{gather}\n",
    "x + y \\leq x - y \\\\  \n",
    "y \\leq -y \n",
    "\\end{gather}\n",
    "\n",
    "For $x + y < 0$:\n",
    "\\begin{gather}\n",
    "-(x + y) \\leq x - y \\\\\n",
    "-x - y \\leq x - y \\\\\n",
    "-x \\leq x\n",
    "\\end{gather}}\n",
    "\n",
    "Case 4: $x < 0, y \\geq 0$\n",
    "\n",
    "- Let, $|x| = -x, |y| = y$\n",
    "- Substitution:\n",
    "\\begin{gather}\n",
    "|x + y| \\leq -x + y\n",
    "\\end{gather}\n",
    "- Solve for sub-cases of $|x + y|$:\n",
    "\\begin{gather}\n",
    "x + y, x + y \\geq 0 \\\\\n",
    "-(x + y), x + y < 0 \\\\\n",
    "\\end{gather}\n",
    "\n",
    "For $x + y \\geq 0$:\n",
    "\\begin{gather}\n",
    "x + y \\leq -x + y \\\\\n",
    "x \\leq -x\n",
    "\\end{gather}\n",
    "\n",
    "For $x + y < 0$:\n",
    "\\begin{gather}\n",
    "-(x + y) \\leq -x + y \\\\\n",
    "-x - y \\leq -x + y \\\\\n",
    "-y \\leq y\n",
    "\\end{gather}\n",
    "\n",
    "$\\textbf{Conclusion}$: Therefore, in all cases, $|x+y| \\leq |x| + |y| \\in \\mathbb{R} $"
   ]
  },
  {
   "cell_type": "markdown",
   "id": "fa0b2664-2783-4cdb-97a5-4bf5917798bd",
   "metadata": {},
   "source": [
    "<br>"
   ]
  },
  {
   "cell_type": "markdown",
   "id": "8c888d2e-b92e-436d-a8e6-86c2eda737c2",
   "metadata": {},
   "source": [
    "4. Prove Sedrakayan's Lemma $\\forall u_i, v_i \\in \\mathbb{R}^+$:\n",
    "\\begin{gather}\n",
    "\\frac{(\\Sigma_{i=1}^n u_i)^2}{\\Sigma_{i=1}^n v_i}\n",
    "\\leq\n",
    "\\Sigma_{i=1}^n \\frac{(u_i)^2}{v_i}\n",
    "\\end{gather}"
   ]
  },
  {
   "cell_type": "markdown",
   "id": "bf0487c7-857f-41d0-93c2-bbf69cf41c60",
   "metadata": {},
   "source": [
    "#### Answer to Problem 4:"
   ]
  },
  {
   "cell_type": "markdown",
   "id": "f833c972-0624-4aaa-9072-a12945174d9d",
   "metadata": {},
   "source": [
    "<b> Step 1: </b> We are going to use The Cauchy-Schwarz Inequality \n",
    "\n",
    "Since we want are going prove Sedrakayan's Lemma, which states that: \n",
    "\n",
    "- For any positive real numbers $u_i$ and $v_i$ (where $i$ ranges from 1 to $n$):\n",
    "\\begin{gathered} \\frac{\\left(\\sum_{i=1}^n u_i\\right)^2}{\\sum_{i=1}^n v_i} \\leq \\sum_{i=1}^n \\frac{u_i^2}{v_i} \\end{gathered}\n",
    "\n",
    "\n",
    "In order to prove this, we'll be using the Cauchy-Schwarz Inequality \n",
    "\n",
    "<b>Step 2: </b> Define the equations: \n",
    "- $\\mathbf{u} = (u_1, u_2, ..., u_n)$\n",
    "- $\\mathbf{v} = (\\sqrt{v_1}, \\sqrt{v_2}, ..., \\sqrt{v_n})$\n",
    "\n",
    "\n",
    "\n",
    "\n",
    "<b>Step 3: </b> Apply\n",
    "Now, we apply the Cauchy-Schwarz Inequality for inner products of vectors. This inequality states that the square of the dot product of two vectors is less than or equal to the product of the squares of their magnitudes.\n",
    "\n",
    "For the sum of $u_i$, we have:\n",
    "- $\\left(\\sum_{i=1}^n u_i\\right)^2 \\leq n \\left(\\sum_{i=1}^n u_i^2\\right)$\n",
    "\n",
    "For the sum of $\\sqrt{v_i}$, we have:\n",
    "- $\\left(\\sum_{i=1}^n \\sqrt{v_i}\\right)^2 \\leq n \\left(\\sum_{i=1}^n v_i\\right)$\n",
    "\n",
    "<b>Step 4: </b> Rearrange the Equation:\n",
    "- $\\frac{\\left(\\sum_{i=1}^n u_i\\right)^2}{\\sum_{i=1}^n v_i} \\leq \\frac{\\sum_{i=1}^n u_i^2}{\\sum_{i=1}^n v_i}$\n",
    "\n",
    "<b>Step 5: </b> Acknowledge the obtained expression as the final form:\n",
    "\\begin{gathered} \\frac{\\left(\\sum_{i=1}^n u_i\\right)^2}{\\sum_{i=1}^n v_i} \\leq \\frac{\\sum_{i=1}^n u_i^2}{\\sum_{i=1}^n v_i} \\end{gathered}\n",
    "\n",
    "\n",
    "Now we conclude, This validates **Sedrakayan's Lemma**."
   ]
  }
 ],
 "metadata": {
  "kernelspec": {
   "display_name": "Python 3 (ipykernel)",
   "language": "python",
   "name": "python3"
  },
  "language_info": {
   "codemirror_mode": {
    "name": "ipython",
    "version": 3
   },
   "file_extension": ".py",
   "mimetype": "text/x-python",
   "name": "python",
   "nbconvert_exporter": "python",
   "pygments_lexer": "ipython3",
   "version": "3.12.3"
  }
 },
 "nbformat": 4,
 "nbformat_minor": 5
}
